{
 "metadata": {
  "language_info": {
   "codemirror_mode": {
    "name": "ipython",
    "version": 3
   },
   "file_extension": ".py",
   "mimetype": "text/x-python",
   "name": "python",
   "nbconvert_exporter": "python",
   "pygments_lexer": "ipython3",
   "version": "3.8.2-final"
  },
  "orig_nbformat": 2,
  "kernelspec": {
   "name": "python_defaultSpec_1599986344995",
   "display_name": "Python 3.8.2 64-bit ('env': venv)"
  }
 },
 "nbformat": 4,
 "nbformat_minor": 2,
 "cells": [
  {
   "cell_type": "code",
   "execution_count": 2,
   "metadata": {
    "tags": []
   },
   "outputs": [
    {
     "output_type": "stream",
     "name": "stdout",
     "text": "Downloading data from https://storage.googleapis.com/tensorflow/tf-keras-datasets/mnist.npz\n11493376/11490434 [==============================] - 27s 2us/step\nTrain (60000, 28, 28) (60000,)\nTest (10000, 28, 28) (10000,)\n"
    }
   ],
   "source": [
    "\n",
    "# example of loading the mnist dataset\n",
    "from keras.datasets.mnist import load_data\n",
    "# load the images into memory\n",
    "(trainX, trainy), (testX, testy) = load_data()\n",
    "# summarize the shape of the dataset\n",
    "print('Train', trainX.shape, trainy.shape)\n",
    "print('Test', testX.shape, testy.shape)"
   ]
  },
  {
   "cell_type": "code",
   "execution_count": 7,
   "metadata": {
    "tags": []
   },
   "outputs": [
    {
     "output_type": "stream",
     "name": "stdout",
     "text": "Model: \"sequential_2\"\n_________________________________________________________________\nLayer (type)                 Output Shape              Param #   \n=================================================================\nconv2d_4 (Conv2D)            (None, 14, 14, 64)        640       \n_________________________________________________________________\nleaky_re_lu_4 (LeakyReLU)    (None, 14, 14, 64)        0         \n_________________________________________________________________\ndropout_4 (Dropout)          (None, 14, 14, 64)        0         \n_________________________________________________________________\nconv2d_5 (Conv2D)            (None, 7, 7, 64)          36928     \n_________________________________________________________________\nleaky_re_lu_5 (LeakyReLU)    (None, 7, 7, 64)          0         \n_________________________________________________________________\ndropout_5 (Dropout)          (None, 7, 7, 64)          0         \n_________________________________________________________________\nflatten_2 (Flatten)          (None, 3136)              0         \n_________________________________________________________________\ndense_2 (Dense)              (None, 1)                 3137      \n=================================================================\nTotal params: 40,705\nTrainable params: 40,705\nNon-trainable params: 0\n_________________________________________________________________\n('Failed to import pydot. You must `pip install pydot` and install graphviz (https://graphviz.gitlab.io/download/), ', 'for `pydotprint` to work.')\n"
    }
   ],
   "source": [
    "# example of defining the discriminator model\n",
    "from keras.models import Sequential\n",
    "from keras.optimizers import Adam\n",
    "from keras.layers import Dense\n",
    "from keras.layers import Conv2D\n",
    "from keras.layers import Flatten\n",
    "from keras.layers import Dropout\n",
    "from keras.layers import LeakyReLU\n",
    "from keras.utils.vis_utils import plot_model\n",
    " \n",
    "# define the standalone discriminator model\n",
    "def define_discriminator(in_shape=(28,28,1)):\n",
    "\tmodel = Sequential()\n",
    "\tmodel.add(Conv2D(64, (3,3), strides=(2, 2), padding='same', input_shape=in_shape))\n",
    "\tmodel.add(LeakyReLU(alpha=0.2))\n",
    "\tmodel.add(Dropout(0.4))\n",
    "\tmodel.add(Conv2D(64, (3,3), strides=(2, 2), padding='same'))\n",
    "\tmodel.add(LeakyReLU(alpha=0.2))\n",
    "\tmodel.add(Dropout(0.4))\n",
    "\tmodel.add(Flatten())\n",
    "\tmodel.add(Dense(1, activation='sigmoid'))\n",
    "\t# compile model\n",
    "\topt = Adam(lr=0.0002, beta_1=0.5)\n",
    "\tmodel.compile(loss='binary_crossentropy', optimizer=opt, metrics=['accuracy'])\n",
    "\treturn model\n",
    " \n",
    "# define model\n",
    "model = define_discriminator()\n",
    "# summarize the model\n",
    "model.summary()\n",
    "# plot the model\n",
    "plot_model(model, to_file='discriminator_plot.png', show_shapes=True, show_layer_names=True)\n",
    "\n",
    "\n",
    "# load and prepare mnist training images\n",
    "def load_real_samples():\n",
    "\t# load mnist dataset\n",
    "\t(trainX, _), (_, _) = load_data()\n",
    "\t# expand to 3d, e.g. add channels dimension\n",
    "\tX = expand_dims(trainX, axis=-1)\n",
    "\t# convert from unsigned ints to floats\n",
    "\tX = X.astype('float32')\n",
    "\t# scale from [0,255] to [0,1]\n",
    "\tX = X / 255.0\n",
    "\treturn X\n",
    "\n"
   ]
  },
  {
   "cell_type": "code",
   "execution_count": null,
   "metadata": {},
   "outputs": [],
   "source": []
  }
 ]
}